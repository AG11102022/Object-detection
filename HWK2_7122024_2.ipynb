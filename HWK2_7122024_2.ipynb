{
 "cells": [
  {
   "cell_type": "markdown",
   "id": "bd69384b-c085-4420-be3f-bff4e7130370",
   "metadata": {},
   "source": [
    "# Step 1: Video library"
   ]
  },
  {
   "cell_type": "code",
   "execution_count": 1,
   "id": "8c0b2520-e038-4413-aecc-e69e05014252",
   "metadata": {},
   "outputs": [
    {
     "name": "stdout",
     "output_type": "stream",
     "text": [
      "Connection Error: get_throttling_function_name: could not find match for multiple\n",
      "Connection Error: HTTP Error 400: Bad Request\n",
      "Connection Error: get_throttling_function_name: could not find match for multiple\n",
      "Task Completed!\n"
     ]
    }
   ],
   "source": [
    "from pytube import YouTube\n",
    "\n",
    "# Path\n",
    "SAVE_PATH = \"C:/Users/algba/AIhwks/HWK2\"  # Your specified path\n",
    "\n",
    "# Links of the videos to be downloaded\n",
    "video_urls = [\n",
    "    'https://www.youtube.com/watch?v=wbWRWeVe1XE',\n",
    "    'https://www.youtube.com/watch?v=FlJoBhLnqko',\n",
    "    'https://www.youtube.com/watch?v=Y-bVwPRy_no'\n",
    "]\n",
    "\n",
    "for link in video_urls:\n",
    "    try:\n",
    "        # Object creation using YouTube\n",
    "        yt = YouTube(link)\n",
    "\n",
    "        # Get the video title for naming the subtitle file\n",
    "        video_title = yt.title\n",
    "\n",
    "        # Get all streams and filter for mp4 files\n",
    "        mp4_streams = yt.streams.filter(file_extension='mp4').order_by('resolution').desc()\n",
    "\n",
    "        if mp4_streams:\n",
    "            # Get the video with the highest resolution\n",
    "            d_video = mp4_streams.first()\n",
    "\n",
    "            try:\n",
    "                # Download the video\n",
    "                video_file = d_video.download(output_path=SAVE_PATH)\n",
    "                print(f'Video downloaded successfully: {link}')\n",
    "\n",
    "                # Download captions (subtitles)\n",
    "                captions = yt.captions.get_by_language_code('en')\n",
    "                if captions:\n",
    "                    # Save captions to file\n",
    "                    caption_file = f\"{SAVE_PATH}/{video_title}.srt\"\n",
    "                    with open(caption_file, 'w', encoding='utf-8') as f:\n",
    "                        f.write(captions.generate_srt_captions())\n",
    "\n",
    "                    print(f'Captions downloaded successfully: {link}')\n",
    "                else:\n",
    "                    print(f'No English captions available for: {link}')\n",
    "\n",
    "            except Exception as e:\n",
    "                print(f\"Download Error: {e}\")\n",
    "        else:\n",
    "            print(f\"No mp4 streams available for this video: {link}\")\n",
    "\n",
    "    except Exception as e:\n",
    "        print(f\"Connection Error: {e}\")\n",
    "\n",
    "print('Task Completed!')"
   ]
  },
  {
   "cell_type": "code",
   "execution_count": null,
   "id": "1042455a-751d-4d67-bf5b-7a676581fcd1",
   "metadata": {},
   "outputs": [],
   "source": [
    "### Checking files"
   ]
  },
  {
   "cell_type": "code",
   "execution_count": 45,
   "id": "30fa16a9-04e9-4660-96e0-81701c32806f",
   "metadata": {},
   "outputs": [
    {
     "name": "stdout",
     "output_type": "stream",
     "text": [
      "Directory exists: C:\\Users\\algba\\AIhwks\\HWK2\n",
      "Downloaded files: ['.ipynb_checkpoints', 'autoencoder_model.h5', 'detected_objects', 'download_log.txt', 'FlJoBhLnqko.mp4', 'FlJoBhLnqko.srt', 'HWK2.ipynb', 'processed_frames', 'wbWRWeVe1XE.mp4', 'wbWRWeVe1XE.srt', 'Y-bVwPRy_no.mp4', 'Y-bVwPRy_no.srt']\n",
      "Full file paths: ['C:\\\\Users\\\\algba\\\\AIhwks\\\\HWK2\\\\.ipynb_checkpoints', 'C:\\\\Users\\\\algba\\\\AIhwks\\\\HWK2\\\\autoencoder_model.h5', 'C:\\\\Users\\\\algba\\\\AIhwks\\\\HWK2\\\\detected_objects', 'C:\\\\Users\\\\algba\\\\AIhwks\\\\HWK2\\\\download_log.txt', 'C:\\\\Users\\\\algba\\\\AIhwks\\\\HWK2\\\\FlJoBhLnqko.mp4', 'C:\\\\Users\\\\algba\\\\AIhwks\\\\HWK2\\\\FlJoBhLnqko.srt', 'C:\\\\Users\\\\algba\\\\AIhwks\\\\HWK2\\\\HWK2.ipynb', 'C:\\\\Users\\\\algba\\\\AIhwks\\\\HWK2\\\\processed_frames', 'C:\\\\Users\\\\algba\\\\AIhwks\\\\HWK2\\\\wbWRWeVe1XE.mp4', 'C:\\\\Users\\\\algba\\\\AIhwks\\\\HWK2\\\\wbWRWeVe1XE.srt', 'C:\\\\Users\\\\algba\\\\AIhwks\\\\HWK2\\\\Y-bVwPRy_no.mp4', 'C:\\\\Users\\\\algba\\\\AIhwks\\\\HWK2\\\\Y-bVwPRy_no.srt']\n"
     ]
    }
   ],
   "source": [
    "import os\n",
    "from moviepy.editor import VideoFileClip\n",
    "import pysrt\n",
    "\n",
    "# Directory where the downloaded videos and captions are stored\n",
    "download_path = r'C:\\Users\\algba\\AIhwks\\HWK2'\n",
    "\n",
    "# Verify if the directory exists\n",
    "if not os.path.exists(download_path):\n",
    "    print(f\"Directory does not exist: {download_path}\")\n",
    "else:\n",
    "    print(f\"Directory exists: {download_path}\")\n",
    "\n",
    "# List the downloaded files\n",
    "files = os.listdir(download_path)\n",
    "print(\"Downloaded files:\", files)\n",
    "\n",
    "# Print the full paths of the files\n",
    "full_paths = [os.path.join(download_path, f) for f in files]\n",
    "print(\"Full file paths:\", full_paths)"
   ]
  },
  {
   "cell_type": "markdown",
   "id": "979d5def-0ba0-47f4-aa40-7dcf163b77d4",
   "metadata": {},
   "source": [
    "# 2.1 Preprocess the video"
   ]
  },
  {
   "cell_type": "code",
   "execution_count": 2,
   "id": "09b46f5e-8ae2-4c60-b9ce-6e89c8655250",
   "metadata": {},
   "outputs": [
    {
     "name": "stdout",
     "output_type": "stream",
     "text": [
      "Decoded 8204 frames from C:\\Users\\algba\\AIhwks\\HWK2\\wbWRWeVe1XE.mp4\n",
      "Sampled 821 frames\n",
      "Resized frames to (224, 224)\n",
      "Preprocessed 821 frames\n",
      "Frames saved to C:\\Users\\algba\\AIhwks\\HWK2\\processed_frames\\wbWRWeVe1XE.npy\n",
      "Decoded 5499 frames from C:\\Users\\algba\\AIhwks\\HWK2\\FlJoBhLnqko.mp4\n",
      "Sampled 550 frames\n",
      "Resized frames to (224, 224)\n",
      "Preprocessed 550 frames\n",
      "Frames saved to C:\\Users\\algba\\AIhwks\\HWK2\\processed_frames\\FlJoBhLnqko.npy\n",
      "Decoded 3581 frames from C:\\Users\\algba\\AIhwks\\HWK2\\Y-bVwPRy_no.mp4\n",
      "Sampled 359 frames\n",
      "Resized frames to (224, 224)\n",
      "Preprocessed 359 frames\n",
      "Frames saved to C:\\Users\\algba\\AIhwks\\HWK2\\processed_frames\\Y-bVwPRy_no.npy\n"
     ]
    }
   ],
   "source": [
    "import cv2\n",
    "import numpy as np\n",
    "import os\n",
    "\n",
    "def decode_frames(video_path):\n",
    "    # Step 1: Decode frames\n",
    "    cap = cv2.VideoCapture(video_path)\n",
    "    frames = []\n",
    "    while True:\n",
    "        ret, frame = cap.read()\n",
    "        if not ret:\n",
    "            break\n",
    "        frames.append(frame)\n",
    "    cap.release()\n",
    "    print(f\"Decoded {len(frames)} frames from {video_path}\")\n",
    "    return frames\n",
    "\n",
    "def sample_frames(frames, sample_rate=10):\n",
    "    # Step 2: Sample frames\n",
    "    sampled_frames = frames[::sample_rate]\n",
    "    print(f\"Sampled {len(sampled_frames)} frames\")\n",
    "    return sampled_frames\n",
    "\n",
    "def resize_frames(frames, size=(224, 224)):\n",
    "    # Step 3: Resizing\n",
    "    resized_frames = [cv2.resize(frame, size) for frame in frames]\n",
    "    print(f\"Resized frames to {size}\")\n",
    "    return resized_frames\n",
    "\n",
    "def preprocess_frames(frames):\n",
    "    # Step 4: Scaling, normalizing, and correcting color mode\n",
    "    processed_frames = []\n",
    "    for frame in frames:\n",
    "        # Convert to RGB\n",
    "        frame = cv2.cvtColor(frame, cv2.COLOR_BGR2RGB)\n",
    "        # Normalize to [0, 1]\n",
    "        frame = frame / 255.0\n",
    "        processed_frames.append(frame)\n",
    "    print(f\"Preprocessed {len(processed_frames)} frames\")\n",
    "    return np.array(processed_frames)\n",
    "\n",
    "def save_frames(frames, save_path):\n",
    "    # Step 5: Save frames\n",
    "    np.save(save_path, frames)\n",
    "    print(f\"Frames saved to {save_path}\")\n",
    "\n",
    "def preprocess_video(video_path, output_path, sample_rate=10, size=(224, 224)):\n",
    "    frames = decode_frames(video_path) # Step 1: Decode frames\n",
    "    if frames:\n",
    "        sampled_frames = sample_frames(frames, sample_rate)  # Step 2: Sample frames\n",
    "        resized_frames = resize_frames(sampled_frames, size) # Step 3: Resizing\n",
    "        processed_frames = preprocess_frames(resized_frames) # Step 4: Scaling, normalizing, and correcting color mode\n",
    "        save_frames(processed_frames, output_path) # Step 5: Save frames\n",
    "    else:\n",
    "        print(f\"No frames decoded from {video_path}\")\n",
    "\n",
    "if __name__ == '__main__':\n",
    "    video_dir = r'C:\\Users\\algba\\AIhwks\\HWK2'\n",
    "    output_dir = r'C:\\Users\\algba\\AIhwks\\HWK2\\processed_frames'\n",
    "    if not os.path.exists(output_dir):\n",
    "        os.makedirs(output_dir)\n",
    "\n",
    "    video_files = [\n",
    "        'wbWRWeVe1XE.mp4',\n",
    "        'FlJoBhLnqko.mp4',\n",
    "        'Y-bVwPRy_no.mp4'\n",
    "    ]\n",
    "\n",
    "    for video_file in video_files:\n",
    "        video_path = os.path.join(video_dir, video_file)\n",
    "        output_path = os.path.join(output_dir, video_file.replace('.mp4', '.npy'))\n",
    "        preprocess_video(video_path, output_path)\n"
   ]
  },
  {
   "cell_type": "markdown",
   "id": "b627e406-5012-4ff7-8107-0fa33968daf7",
   "metadata": {},
   "source": [
    "# 2.2  Detecting objects"
   ]
  },
  {
   "cell_type": "code",
   "execution_count": 11,
   "id": "31e7a85e-7dcc-42e2-b3d6-506538768b74",
   "metadata": {},
   "outputs": [
    {
     "name": "stdout",
     "output_type": "stream",
     "text": [
      "Starting to process file: wbWRWeVe1XE.npy\n",
      "Finished processing file: wbWRWeVe1XE.npy\n",
      "Results saved to C:\\Users\\algba\\AIhwks\\object_detection_results.csv\n",
      "Processing summary for file wbWRWeVe1XE.npy:\n",
      "Total frames processed: 821\n",
      "Total detections: 8630\n",
      "Time taken: 1545.11 seconds\n",
      "Starting to process file: FlJoBhLnqko.npy\n",
      "Finished processing file: FlJoBhLnqko.npy\n",
      "Results saved to C:\\Users\\algba\\AIhwks\\object_detection_results.csv\n",
      "Processing summary for file FlJoBhLnqko.npy:\n",
      "Total frames processed: 550\n",
      "Total detections: 1502\n",
      "Time taken: 1089.49 seconds\n",
      "Starting to process file: Y-bVwPRy_no.npy\n",
      "Finished processing file: Y-bVwPRy_no.npy\n",
      "Results saved to C:\\Users\\algba\\AIhwks\\object_detection_results.csv\n",
      "Processing summary for file Y-bVwPRy_no.npy:\n",
      "Total frames processed: 359\n",
      "Total detections: 1759\n",
      "Time taken: 757.87 seconds\n",
      "All results saved to C:\\Users\\algba\\AIhwks\\object_detection_results.csv\n"
     ]
    }
   ],
   "source": [
    "import torch\n",
    "import torchvision.transforms as T\n",
    "import torchvision\n",
    "import numpy as np\n",
    "import os\n",
    "import pandas as pd\n",
    "from datetime import timedelta\n",
    "import cv2\n",
    "import time\n",
    "\n",
    "# Load a pre-trained model\n",
    "weights = torchvision.models.detection.FasterRCNN_ResNet50_FPN_Weights.COCO_V1\n",
    "model = torchvision.models.detection.fasterrcnn_resnet50_fpn(weights=weights)\n",
    "model.eval()\n",
    "\n",
    "# Defining the COCO class names\n",
    "COCO_INSTANCE_CATEGORY_NAMES = [\n",
    "    '__background__', 'person', 'bicycle', 'car', 'motorcycle', 'airplane', 'bus',\n",
    "    'train', 'truck', 'boat', 'traffic light', 'fire hydrant', 'stop sign',\n",
    "    'parking meter', 'bench', 'bird', 'cat', 'dog', 'horse', 'sheep', 'cow',\n",
    "    'elephant', 'bear', 'zebra', 'giraffe', 'backpack', 'umbrella', 'handbag',\n",
    "    'tie', 'suitcase', 'frisbee', 'skis', 'snowboard', 'sports ball', 'kite',\n",
    "    'baseball bat', 'baseball glove', 'skateboard', 'surfboard', 'tennis racket',\n",
    "    'bottle', 'wine glass', 'cup', 'fork', 'knife', 'spoon', 'bowl', 'banana',\n",
    "    'apple', 'sandwich', 'orange', 'broccoli', 'carrot', 'hot dog', 'pizza',\n",
    "    'donut', 'cake', 'chair', 'couch', 'potted plant', 'bed', 'dining table',\n",
    "    'toilet', 'TV', 'laptop', 'mouse', 'remote', 'keyboard', 'cell phone',\n",
    "    'microwave', 'oven', 'toaster', 'sink', 'refrigerator', 'book', 'clock',\n",
    "    'vase', 'scissors', 'teddy bear', 'hair drier', 'toothbrush'\n",
    "]\n",
    "\n",
    "# Transform to apply to each frame\n",
    "transform = T.Compose([\n",
    "    T.ToTensor()\n",
    "])\n",
    "\n",
    "def detect_objects(frame, model, transform):\n",
    "    frame_tensor = transform(frame).unsqueeze(0).to(torch.float32)\n",
    "    with torch.no_grad():\n",
    "        predictions = model(frame_tensor)\n",
    "    return predictions[0]\n",
    "\n",
    "def process_npy_files(npy_files, npy_dir, output_file):\n",
    "    results = []\n",
    "    for npy_file in npy_files:\n",
    "        print(f\"Starting to process file: {npy_file}\")\n",
    "        start_time = time.time()\n",
    "        frames = np.load(os.path.join(npy_dir, npy_file))\n",
    "        total_detections = 0\n",
    "        for frame_num, frame in enumerate(frames):\n",
    "            timestamp = str(timedelta(seconds=frame_num / 30))  # Assuming 30 FPS\n",
    "            predictions = detect_objects(frame, model, transform)\n",
    "            for i, box in enumerate(predictions['boxes']):\n",
    "                score = predictions['scores'][i].item()\n",
    "                label = predictions['labels'][i].item()\n",
    "                if score > 0.3:  # Lower confidence threshold to 0.3\n",
    "                    if label < len(COCO_INSTANCE_CATEGORY_NAMES):\n",
    "                        class_name = COCO_INSTANCE_CATEGORY_NAMES[label]\n",
    "                        bbox = box.cpu().numpy().astype(int).tolist()\n",
    "                        results.append([\n",
    "                            npy_file.replace('.npy', ''), frame_num, timestamp, label,\n",
    "                            class_name, score, bbox\n",
    "                        ])\n",
    "                    else:\n",
    "                        results.append([\n",
    "                            npy_file.replace('.npy', ''), frame_num, timestamp, label,\n",
    "                            \"unknown\", score, bbox\n",
    "                        ])\n",
    "                    total_detections += 1\n",
    "        end_time = time.time()\n",
    "        elapsed_time = end_time - start_time\n",
    "        print(f\"Finished processing file: {npy_file}\")\n",
    "        print(f\"Results saved to {output_file}\")\n",
    "        print(f\"Processing summary for file {npy_file}:\")\n",
    "        print(f\"Total frames processed: {len(frames)}\")\n",
    "        print(f\"Total detections: {total_detections}\")\n",
    "        print(f\"Time taken: {elapsed_time:.2f} seconds\")\n",
    "\n",
    "    df = pd.DataFrame(results, columns=[\n",
    "        'vidId', 'frameNum', 'timestamp', 'detectedObjId',\n",
    "        'detectedObjClass', 'confidence', 'bbox info'\n",
    "    ])\n",
    "    df.to_csv(output_file, index=False)\n",
    "    print(f\"All results saved to {output_file}\")\n",
    "\n",
    "if __name__ == '__main__':\n",
    "    npy_dir = r'C:\\Users\\algba\\AIhwks\\processed_frames'\n",
    "    output_file = r'C:\\Users\\algba\\AIhwks\\object_detection_results.csv'\n",
    "    npy_files = [\n",
    "        'wbWRWeVe1XE.npy',\n",
    "        'FlJoBhLnqko.npy',\n",
    "        'Y-bVwPRy_no.npy'\n",
    "    ]\n",
    "\n",
    "    process_npy_files(npy_files, npy_dir, output_file)\n"
   ]
  },
  {
   "cell_type": "markdown",
   "id": "28bc8dad-e11e-4dbe-a489-3ec83053aebb",
   "metadata": {},
   "source": [
    "# 2.3 Embedding model"
   ]
  },
  {
   "cell_type": "markdown",
   "id": "2497d625-c1a1-42c9-8ae1-bc40925ff645",
   "metadata": {},
   "source": [
    "## Downsample the Frame Rate"
   ]
  },
  {
   "cell_type": "code",
   "execution_count": 21,
   "id": "5415c395-fc09-4c77-bcbb-8af066e54de7",
   "metadata": {},
   "outputs": [
    {
     "name": "stdout",
     "output_type": "stream",
     "text": [
      "Processing file: wbWRWeVe1XE.npy\n",
      "Processing file: FlJoBhLnqko.npy\n",
      "Processing file: Y-bVwPRy_no.npy\n"
     ]
    }
   ],
   "source": [
    "import cv2\n",
    "import numpy as np\n",
    "import os\n",
    "import pandas as pd\n",
    "\n",
    "def extract_objects_from_frames(npy_files, npy_dir, detection_results, output_dir, downsample_rate=5):\n",
    "    if not os.path.exists(output_dir):\n",
    "        os.makedirs(output_dir)\n",
    "    \n",
    "    detection_df = pd.read_csv(detection_results)\n",
    "    for npy_file in npy_files:\n",
    "        print(f\"Processing file: {npy_file}\")\n",
    "        frames = np.load(os.path.join(npy_dir, npy_file))\n",
    "        detections = detection_df[detection_df['vidId'] == npy_file.replace('.npy', '')]\n",
    "        \n",
    "        for idx, row in detections.iterrows():\n",
    "            if idx % downsample_rate != 0:\n",
    "                continue  # Downsample the frames\n",
    "            \n",
    "            try:\n",
    "                frame_num = int(row['frameNum'])\n",
    "                bbox = eval(row['bbox info'])\n",
    "                label = row['detectedObjClass']\n",
    "                \n",
    "                if len(bbox) != 4:\n",
    "                    print(f\"Invalid bbox for frame {frame_num} in {npy_file}: {bbox}\")\n",
    "                    continue\n",
    "\n",
    "                # Ensure bbox coordinates are within frame dimensions\n",
    "                ymin, xmin, ymax, xmax = max(0, bbox[1]), max(0, bbox[0]), min(frames[frame_num].shape[0], bbox[3]), min(frames[frame_num].shape[1], bbox[2])\n",
    "                if ymin >= ymax or xmin >= xmax:\n",
    "                    print(f\"Invalid bbox coordinates for frame {frame_num} in {npy_file}: {bbox}\")\n",
    "                    continue\n",
    "\n",
    "                obj_img = frames[frame_num][ymin:ymax, xmin:xmax]\n",
    "                obj_img = (obj_img * 255).astype(np.uint8)  # Convert to 8-bit unsigned integer\n",
    "                obj_img_path = os.path.join(output_dir, f\"{npy_file.replace('.npy', '')}_frame{frame_num}_{label}.png\")\n",
    "                cv2.imwrite(obj_img_path, cv2.cvtColor(obj_img, cv2.COLOR_RGB2BGR))\n",
    "            except Exception as e:\n",
    "                print(f\"Error processing frame {frame_num} in {npy_file}: {e}\")\n",
    "\n",
    "npy_files = [\n",
    "    'wbWRWeVe1XE.npy',\n",
    "    'FlJoBhLnqko.npy',\n",
    "    'Y-bVwPRy_no.npy'\n",
    "]\n",
    "npy_dir = r'C:\\Users\\algba\\AIhwks\\processed_frames'\n",
    "detection_results = r'C:\\Users\\algba\\AIhwks\\object_detection_results.csv'\n",
    "output_dir = r'C:\\Users\\algba\\AIhwks\\extracted_objects'\n",
    "\n",
    "extract_objects_from_frames(npy_files, npy_dir, detection_results, output_dir, downsample_rate=5)\n"
   ]
  },
  {
   "cell_type": "markdown",
   "id": "0d7c782b-a4f3-41a2-919c-95e315ac307d",
   "metadata": {},
   "source": [
    "## Load and preprocess images"
   ]
  },
  {
   "cell_type": "code",
   "execution_count": 4,
   "id": "d565dfdb-8c02-47a0-b2fb-93c92521ffb7",
   "metadata": {},
   "outputs": [],
   "source": [
    "from keras.preprocessing.image import img_to_array, load_img\n",
    "from keras.utils import normalize\n",
    "import numpy as np\n",
    "import os\n",
    "\n",
    "def load_and_preprocess_images(image_dir, target_size=(128, 128)):\n",
    "    images = []\n",
    "    image_files = [os.path.join(image_dir, img) for img in os.listdir(image_dir) if img.endswith('.png')]\n",
    "    for img_path in image_files:\n",
    "        img = load_img(img_path, target_size=target_size)\n",
    "        img_array = img_to_array(img)\n",
    "        img_array = normalize(img_array, axis=1)\n",
    "        images.append(img_array)\n",
    "    return np.array(images)\n",
    "\n",
    "image_dir = r'C:\\Users\\algba\\AIhwks\\extracted_objects'\n",
    "images = load_and_preprocess_images(image_dir)\n"
   ]
  },
  {
   "cell_type": "markdown",
   "id": "322a605a-93e0-4cd4-8b70-59e4bce2af3c",
   "metadata": {},
   "source": [
    "## Define Convolutional autoencoder"
   ]
  },
  {
   "cell_type": "code",
   "execution_count": 5,
   "id": "fcbdc1ec-cc3d-411d-905a-18923a0bbf36",
   "metadata": {},
   "outputs": [
    {
     "data": {
      "text/html": [
       "<pre style=\"white-space:pre;overflow-x:auto;line-height:normal;font-family:Menlo,'DejaVu Sans Mono',consolas,'Courier New',monospace\"><span style=\"font-weight: bold\">Model: \"functional_5\"</span>\n",
       "</pre>\n"
      ],
      "text/plain": [
       "\u001b[1mModel: \"functional_5\"\u001b[0m\n"
      ]
     },
     "metadata": {},
     "output_type": "display_data"
    },
    {
     "data": {
      "text/html": [
       "<pre style=\"white-space:pre;overflow-x:auto;line-height:normal;font-family:Menlo,'DejaVu Sans Mono',consolas,'Courier New',monospace\">┏━━━━━━━━━━━━━━━━━━━━━━━━━━━━━━━━━━━━━━┳━━━━━━━━━━━━━━━━━━━━━━━━━━━━━┳━━━━━━━━━━━━━━━━━┓\n",
       "┃<span style=\"font-weight: bold\"> Layer (type)                         </span>┃<span style=\"font-weight: bold\"> Output Shape                </span>┃<span style=\"font-weight: bold\">         Param # </span>┃\n",
       "┡━━━━━━━━━━━━━━━━━━━━━━━━━━━━━━━━━━━━━━╇━━━━━━━━━━━━━━━━━━━━━━━━━━━━━╇━━━━━━━━━━━━━━━━━┩\n",
       "│ input_layer_1 (<span style=\"color: #0087ff; text-decoration-color: #0087ff\">InputLayer</span>)           │ (<span style=\"color: #00d7ff; text-decoration-color: #00d7ff\">None</span>, <span style=\"color: #00af00; text-decoration-color: #00af00\">128</span>, <span style=\"color: #00af00; text-decoration-color: #00af00\">128</span>, <span style=\"color: #00af00; text-decoration-color: #00af00\">3</span>)         │               <span style=\"color: #00af00; text-decoration-color: #00af00\">0</span> │\n",
       "├──────────────────────────────────────┼─────────────────────────────┼─────────────────┤\n",
       "│ conv2d_7 (<span style=\"color: #0087ff; text-decoration-color: #0087ff\">Conv2D</span>)                    │ (<span style=\"color: #00d7ff; text-decoration-color: #00d7ff\">None</span>, <span style=\"color: #00af00; text-decoration-color: #00af00\">128</span>, <span style=\"color: #00af00; text-decoration-color: #00af00\">128</span>, <span style=\"color: #00af00; text-decoration-color: #00af00\">32</span>)        │             <span style=\"color: #00af00; text-decoration-color: #00af00\">896</span> │\n",
       "├──────────────────────────────────────┼─────────────────────────────┼─────────────────┤\n",
       "│ max_pooling2d_3 (<span style=\"color: #0087ff; text-decoration-color: #0087ff\">MaxPooling2D</span>)       │ (<span style=\"color: #00d7ff; text-decoration-color: #00d7ff\">None</span>, <span style=\"color: #00af00; text-decoration-color: #00af00\">64</span>, <span style=\"color: #00af00; text-decoration-color: #00af00\">64</span>, <span style=\"color: #00af00; text-decoration-color: #00af00\">32</span>)          │               <span style=\"color: #00af00; text-decoration-color: #00af00\">0</span> │\n",
       "├──────────────────────────────────────┼─────────────────────────────┼─────────────────┤\n",
       "│ conv2d_8 (<span style=\"color: #0087ff; text-decoration-color: #0087ff\">Conv2D</span>)                    │ (<span style=\"color: #00d7ff; text-decoration-color: #00d7ff\">None</span>, <span style=\"color: #00af00; text-decoration-color: #00af00\">64</span>, <span style=\"color: #00af00; text-decoration-color: #00af00\">64</span>, <span style=\"color: #00af00; text-decoration-color: #00af00\">64</span>)          │          <span style=\"color: #00af00; text-decoration-color: #00af00\">18,496</span> │\n",
       "├──────────────────────────────────────┼─────────────────────────────┼─────────────────┤\n",
       "│ max_pooling2d_4 (<span style=\"color: #0087ff; text-decoration-color: #0087ff\">MaxPooling2D</span>)       │ (<span style=\"color: #00d7ff; text-decoration-color: #00d7ff\">None</span>, <span style=\"color: #00af00; text-decoration-color: #00af00\">32</span>, <span style=\"color: #00af00; text-decoration-color: #00af00\">32</span>, <span style=\"color: #00af00; text-decoration-color: #00af00\">64</span>)          │               <span style=\"color: #00af00; text-decoration-color: #00af00\">0</span> │\n",
       "├──────────────────────────────────────┼─────────────────────────────┼─────────────────┤\n",
       "│ conv2d_9 (<span style=\"color: #0087ff; text-decoration-color: #0087ff\">Conv2D</span>)                    │ (<span style=\"color: #00d7ff; text-decoration-color: #00d7ff\">None</span>, <span style=\"color: #00af00; text-decoration-color: #00af00\">32</span>, <span style=\"color: #00af00; text-decoration-color: #00af00\">32</span>, <span style=\"color: #00af00; text-decoration-color: #00af00\">128</span>)         │          <span style=\"color: #00af00; text-decoration-color: #00af00\">73,856</span> │\n",
       "├──────────────────────────────────────┼─────────────────────────────┼─────────────────┤\n",
       "│ max_pooling2d_5 (<span style=\"color: #0087ff; text-decoration-color: #0087ff\">MaxPooling2D</span>)       │ (<span style=\"color: #00d7ff; text-decoration-color: #00d7ff\">None</span>, <span style=\"color: #00af00; text-decoration-color: #00af00\">16</span>, <span style=\"color: #00af00; text-decoration-color: #00af00\">16</span>, <span style=\"color: #00af00; text-decoration-color: #00af00\">128</span>)         │               <span style=\"color: #00af00; text-decoration-color: #00af00\">0</span> │\n",
       "├──────────────────────────────────────┼─────────────────────────────┼─────────────────┤\n",
       "│ conv2d_10 (<span style=\"color: #0087ff; text-decoration-color: #0087ff\">Conv2D</span>)                   │ (<span style=\"color: #00d7ff; text-decoration-color: #00d7ff\">None</span>, <span style=\"color: #00af00; text-decoration-color: #00af00\">16</span>, <span style=\"color: #00af00; text-decoration-color: #00af00\">16</span>, <span style=\"color: #00af00; text-decoration-color: #00af00\">128</span>)         │         <span style=\"color: #00af00; text-decoration-color: #00af00\">147,584</span> │\n",
       "├──────────────────────────────────────┼─────────────────────────────┼─────────────────┤\n",
       "│ up_sampling2d_3 (<span style=\"color: #0087ff; text-decoration-color: #0087ff\">UpSampling2D</span>)       │ (<span style=\"color: #00d7ff; text-decoration-color: #00d7ff\">None</span>, <span style=\"color: #00af00; text-decoration-color: #00af00\">32</span>, <span style=\"color: #00af00; text-decoration-color: #00af00\">32</span>, <span style=\"color: #00af00; text-decoration-color: #00af00\">128</span>)         │               <span style=\"color: #00af00; text-decoration-color: #00af00\">0</span> │\n",
       "├──────────────────────────────────────┼─────────────────────────────┼─────────────────┤\n",
       "│ conv2d_11 (<span style=\"color: #0087ff; text-decoration-color: #0087ff\">Conv2D</span>)                   │ (<span style=\"color: #00d7ff; text-decoration-color: #00d7ff\">None</span>, <span style=\"color: #00af00; text-decoration-color: #00af00\">32</span>, <span style=\"color: #00af00; text-decoration-color: #00af00\">32</span>, <span style=\"color: #00af00; text-decoration-color: #00af00\">64</span>)          │          <span style=\"color: #00af00; text-decoration-color: #00af00\">73,792</span> │\n",
       "├──────────────────────────────────────┼─────────────────────────────┼─────────────────┤\n",
       "│ up_sampling2d_4 (<span style=\"color: #0087ff; text-decoration-color: #0087ff\">UpSampling2D</span>)       │ (<span style=\"color: #00d7ff; text-decoration-color: #00d7ff\">None</span>, <span style=\"color: #00af00; text-decoration-color: #00af00\">64</span>, <span style=\"color: #00af00; text-decoration-color: #00af00\">64</span>, <span style=\"color: #00af00; text-decoration-color: #00af00\">64</span>)          │               <span style=\"color: #00af00; text-decoration-color: #00af00\">0</span> │\n",
       "├──────────────────────────────────────┼─────────────────────────────┼─────────────────┤\n",
       "│ conv2d_12 (<span style=\"color: #0087ff; text-decoration-color: #0087ff\">Conv2D</span>)                   │ (<span style=\"color: #00d7ff; text-decoration-color: #00d7ff\">None</span>, <span style=\"color: #00af00; text-decoration-color: #00af00\">64</span>, <span style=\"color: #00af00; text-decoration-color: #00af00\">64</span>, <span style=\"color: #00af00; text-decoration-color: #00af00\">32</span>)          │          <span style=\"color: #00af00; text-decoration-color: #00af00\">18,464</span> │\n",
       "├──────────────────────────────────────┼─────────────────────────────┼─────────────────┤\n",
       "│ up_sampling2d_5 (<span style=\"color: #0087ff; text-decoration-color: #0087ff\">UpSampling2D</span>)       │ (<span style=\"color: #00d7ff; text-decoration-color: #00d7ff\">None</span>, <span style=\"color: #00af00; text-decoration-color: #00af00\">128</span>, <span style=\"color: #00af00; text-decoration-color: #00af00\">128</span>, <span style=\"color: #00af00; text-decoration-color: #00af00\">32</span>)        │               <span style=\"color: #00af00; text-decoration-color: #00af00\">0</span> │\n",
       "├──────────────────────────────────────┼─────────────────────────────┼─────────────────┤\n",
       "│ conv2d_13 (<span style=\"color: #0087ff; text-decoration-color: #0087ff\">Conv2D</span>)                   │ (<span style=\"color: #00d7ff; text-decoration-color: #00d7ff\">None</span>, <span style=\"color: #00af00; text-decoration-color: #00af00\">128</span>, <span style=\"color: #00af00; text-decoration-color: #00af00\">128</span>, <span style=\"color: #00af00; text-decoration-color: #00af00\">3</span>)         │             <span style=\"color: #00af00; text-decoration-color: #00af00\">867</span> │\n",
       "└──────────────────────────────────────┴─────────────────────────────┴─────────────────┘\n",
       "</pre>\n"
      ],
      "text/plain": [
       "┏━━━━━━━━━━━━━━━━━━━━━━━━━━━━━━━━━━━━━━┳━━━━━━━━━━━━━━━━━━━━━━━━━━━━━┳━━━━━━━━━━━━━━━━━┓\n",
       "┃\u001b[1m \u001b[0m\u001b[1mLayer (type)                        \u001b[0m\u001b[1m \u001b[0m┃\u001b[1m \u001b[0m\u001b[1mOutput Shape               \u001b[0m\u001b[1m \u001b[0m┃\u001b[1m \u001b[0m\u001b[1m        Param #\u001b[0m\u001b[1m \u001b[0m┃\n",
       "┡━━━━━━━━━━━━━━━━━━━━━━━━━━━━━━━━━━━━━━╇━━━━━━━━━━━━━━━━━━━━━━━━━━━━━╇━━━━━━━━━━━━━━━━━┩\n",
       "│ input_layer_1 (\u001b[38;5;33mInputLayer\u001b[0m)           │ (\u001b[38;5;45mNone\u001b[0m, \u001b[38;5;34m128\u001b[0m, \u001b[38;5;34m128\u001b[0m, \u001b[38;5;34m3\u001b[0m)         │               \u001b[38;5;34m0\u001b[0m │\n",
       "├──────────────────────────────────────┼─────────────────────────────┼─────────────────┤\n",
       "│ conv2d_7 (\u001b[38;5;33mConv2D\u001b[0m)                    │ (\u001b[38;5;45mNone\u001b[0m, \u001b[38;5;34m128\u001b[0m, \u001b[38;5;34m128\u001b[0m, \u001b[38;5;34m32\u001b[0m)        │             \u001b[38;5;34m896\u001b[0m │\n",
       "├──────────────────────────────────────┼─────────────────────────────┼─────────────────┤\n",
       "│ max_pooling2d_3 (\u001b[38;5;33mMaxPooling2D\u001b[0m)       │ (\u001b[38;5;45mNone\u001b[0m, \u001b[38;5;34m64\u001b[0m, \u001b[38;5;34m64\u001b[0m, \u001b[38;5;34m32\u001b[0m)          │               \u001b[38;5;34m0\u001b[0m │\n",
       "├──────────────────────────────────────┼─────────────────────────────┼─────────────────┤\n",
       "│ conv2d_8 (\u001b[38;5;33mConv2D\u001b[0m)                    │ (\u001b[38;5;45mNone\u001b[0m, \u001b[38;5;34m64\u001b[0m, \u001b[38;5;34m64\u001b[0m, \u001b[38;5;34m64\u001b[0m)          │          \u001b[38;5;34m18,496\u001b[0m │\n",
       "├──────────────────────────────────────┼─────────────────────────────┼─────────────────┤\n",
       "│ max_pooling2d_4 (\u001b[38;5;33mMaxPooling2D\u001b[0m)       │ (\u001b[38;5;45mNone\u001b[0m, \u001b[38;5;34m32\u001b[0m, \u001b[38;5;34m32\u001b[0m, \u001b[38;5;34m64\u001b[0m)          │               \u001b[38;5;34m0\u001b[0m │\n",
       "├──────────────────────────────────────┼─────────────────────────────┼─────────────────┤\n",
       "│ conv2d_9 (\u001b[38;5;33mConv2D\u001b[0m)                    │ (\u001b[38;5;45mNone\u001b[0m, \u001b[38;5;34m32\u001b[0m, \u001b[38;5;34m32\u001b[0m, \u001b[38;5;34m128\u001b[0m)         │          \u001b[38;5;34m73,856\u001b[0m │\n",
       "├──────────────────────────────────────┼─────────────────────────────┼─────────────────┤\n",
       "│ max_pooling2d_5 (\u001b[38;5;33mMaxPooling2D\u001b[0m)       │ (\u001b[38;5;45mNone\u001b[0m, \u001b[38;5;34m16\u001b[0m, \u001b[38;5;34m16\u001b[0m, \u001b[38;5;34m128\u001b[0m)         │               \u001b[38;5;34m0\u001b[0m │\n",
       "├──────────────────────────────────────┼─────────────────────────────┼─────────────────┤\n",
       "│ conv2d_10 (\u001b[38;5;33mConv2D\u001b[0m)                   │ (\u001b[38;5;45mNone\u001b[0m, \u001b[38;5;34m16\u001b[0m, \u001b[38;5;34m16\u001b[0m, \u001b[38;5;34m128\u001b[0m)         │         \u001b[38;5;34m147,584\u001b[0m │\n",
       "├──────────────────────────────────────┼─────────────────────────────┼─────────────────┤\n",
       "│ up_sampling2d_3 (\u001b[38;5;33mUpSampling2D\u001b[0m)       │ (\u001b[38;5;45mNone\u001b[0m, \u001b[38;5;34m32\u001b[0m, \u001b[38;5;34m32\u001b[0m, \u001b[38;5;34m128\u001b[0m)         │               \u001b[38;5;34m0\u001b[0m │\n",
       "├──────────────────────────────────────┼─────────────────────────────┼─────────────────┤\n",
       "│ conv2d_11 (\u001b[38;5;33mConv2D\u001b[0m)                   │ (\u001b[38;5;45mNone\u001b[0m, \u001b[38;5;34m32\u001b[0m, \u001b[38;5;34m32\u001b[0m, \u001b[38;5;34m64\u001b[0m)          │          \u001b[38;5;34m73,792\u001b[0m │\n",
       "├──────────────────────────────────────┼─────────────────────────────┼─────────────────┤\n",
       "│ up_sampling2d_4 (\u001b[38;5;33mUpSampling2D\u001b[0m)       │ (\u001b[38;5;45mNone\u001b[0m, \u001b[38;5;34m64\u001b[0m, \u001b[38;5;34m64\u001b[0m, \u001b[38;5;34m64\u001b[0m)          │               \u001b[38;5;34m0\u001b[0m │\n",
       "├──────────────────────────────────────┼─────────────────────────────┼─────────────────┤\n",
       "│ conv2d_12 (\u001b[38;5;33mConv2D\u001b[0m)                   │ (\u001b[38;5;45mNone\u001b[0m, \u001b[38;5;34m64\u001b[0m, \u001b[38;5;34m64\u001b[0m, \u001b[38;5;34m32\u001b[0m)          │          \u001b[38;5;34m18,464\u001b[0m │\n",
       "├──────────────────────────────────────┼─────────────────────────────┼─────────────────┤\n",
       "│ up_sampling2d_5 (\u001b[38;5;33mUpSampling2D\u001b[0m)       │ (\u001b[38;5;45mNone\u001b[0m, \u001b[38;5;34m128\u001b[0m, \u001b[38;5;34m128\u001b[0m, \u001b[38;5;34m32\u001b[0m)        │               \u001b[38;5;34m0\u001b[0m │\n",
       "├──────────────────────────────────────┼─────────────────────────────┼─────────────────┤\n",
       "│ conv2d_13 (\u001b[38;5;33mConv2D\u001b[0m)                   │ (\u001b[38;5;45mNone\u001b[0m, \u001b[38;5;34m128\u001b[0m, \u001b[38;5;34m128\u001b[0m, \u001b[38;5;34m3\u001b[0m)         │             \u001b[38;5;34m867\u001b[0m │\n",
       "└──────────────────────────────────────┴─────────────────────────────┴─────────────────┘\n"
      ]
     },
     "metadata": {},
     "output_type": "display_data"
    },
    {
     "data": {
      "text/html": [
       "<pre style=\"white-space:pre;overflow-x:auto;line-height:normal;font-family:Menlo,'DejaVu Sans Mono',consolas,'Courier New',monospace\"><span style=\"font-weight: bold\"> Total params: </span><span style=\"color: #00af00; text-decoration-color: #00af00\">333,955</span> (1.27 MB)\n",
       "</pre>\n"
      ],
      "text/plain": [
       "\u001b[1m Total params: \u001b[0m\u001b[38;5;34m333,955\u001b[0m (1.27 MB)\n"
      ]
     },
     "metadata": {},
     "output_type": "display_data"
    },
    {
     "data": {
      "text/html": [
       "<pre style=\"white-space:pre;overflow-x:auto;line-height:normal;font-family:Menlo,'DejaVu Sans Mono',consolas,'Courier New',monospace\"><span style=\"font-weight: bold\"> Trainable params: </span><span style=\"color: #00af00; text-decoration-color: #00af00\">333,955</span> (1.27 MB)\n",
       "</pre>\n"
      ],
      "text/plain": [
       "\u001b[1m Trainable params: \u001b[0m\u001b[38;5;34m333,955\u001b[0m (1.27 MB)\n"
      ]
     },
     "metadata": {},
     "output_type": "display_data"
    },
    {
     "data": {
      "text/html": [
       "<pre style=\"white-space:pre;overflow-x:auto;line-height:normal;font-family:Menlo,'DejaVu Sans Mono',consolas,'Courier New',monospace\"><span style=\"font-weight: bold\"> Non-trainable params: </span><span style=\"color: #00af00; text-decoration-color: #00af00\">0</span> (0.00 B)\n",
       "</pre>\n"
      ],
      "text/plain": [
       "\u001b[1m Non-trainable params: \u001b[0m\u001b[38;5;34m0\u001b[0m (0.00 B)\n"
      ]
     },
     "metadata": {},
     "output_type": "display_data"
    }
   ],
   "source": [
    "from keras.layers import Input, Conv2D, MaxPooling2D, UpSampling2D\n",
    "from keras.models import Model\n",
    "\n",
    "input_img = Input(shape=(128, 128, 3))\n",
    "\n",
    "# Encoder\n",
    "x = Conv2D(32, (3, 3), activation='relu', padding='same')(input_img)\n",
    "x = MaxPooling2D((2, 2), padding='same')(x)\n",
    "x = Conv2D(64, (3, 3), activation='relu', padding='same')(x)\n",
    "x = MaxPooling2D((2, 2), padding='same')(x)\n",
    "x = Conv2D(128, (3, 3), activation='relu', padding='same')(x)\n",
    "encoded = MaxPooling2D((2, 2), padding='same')(x)\n",
    "\n",
    "# Decoder\n",
    "x = Conv2D(128, (3, 3), activation='relu', padding='same')(encoded)\n",
    "x = UpSampling2D((2, 2))(x)\n",
    "x = Conv2D(64, (3, 3), activation='relu', padding='same')(x)\n",
    "x = UpSampling2D((2, 2))(x)\n",
    "x = Conv2D(32, (3, 3), activation='relu', padding='same')(x)\n",
    "x = UpSampling2D((2, 2))(x)\n",
    "decoded = Conv2D(3, (3, 3), activation='sigmoid', padding='same')(x)\n",
    "\n",
    "autoencoder = Model(input_img, decoded)\n",
    "autoencoder.compile(optimizer='adam', loss='binary_crossentropy')\n",
    "autoencoder.summary()\n"
   ]
  },
  {
   "cell_type": "markdown",
   "id": "c467a4e0-a99f-47cf-a99c-068c4d745a47",
   "metadata": {},
   "source": [
    "## Split Data and Train the Autoencoder"
   ]
  },
  {
   "cell_type": "code",
   "execution_count": 24,
   "id": "4e9ca9b7-2b8f-4e52-a49c-c09e00326244",
   "metadata": {},
   "outputs": [
    {
     "name": "stdout",
     "output_type": "stream",
     "text": [
      "Epoch 1/50\n",
      "\u001b[1m109/109\u001b[0m \u001b[32m━━━━━━━━━━━━━━━━━━━━\u001b[0m\u001b[37m\u001b[0m \u001b[1m52s\u001b[0m 441ms/step - loss: 0.3582 - val_loss: 0.2714\n",
      "Epoch 2/50\n",
      "\u001b[1m109/109\u001b[0m \u001b[32m━━━━━━━━━━━━━━━━━━━━\u001b[0m\u001b[37m\u001b[0m \u001b[1m50s\u001b[0m 459ms/step - loss: 0.2715 - val_loss: 0.2702\n",
      "Epoch 3/50\n",
      "\u001b[1m109/109\u001b[0m \u001b[32m━━━━━━━━━━━━━━━━━━━━\u001b[0m\u001b[37m\u001b[0m \u001b[1m50s\u001b[0m 455ms/step - loss: 0.2708 - val_loss: 0.2694\n",
      "Epoch 4/50\n",
      "\u001b[1m109/109\u001b[0m \u001b[32m━━━━━━━━━━━━━━━━━━━━\u001b[0m\u001b[37m\u001b[0m \u001b[1m50s\u001b[0m 455ms/step - loss: 0.2702 - val_loss: 0.2691\n",
      "Epoch 5/50\n",
      "\u001b[1m109/109\u001b[0m \u001b[32m━━━━━━━━━━━━━━━━━━━━\u001b[0m\u001b[37m\u001b[0m \u001b[1m47s\u001b[0m 435ms/step - loss: 0.2697 - val_loss: 0.2690\n",
      "Epoch 6/50\n",
      "\u001b[1m109/109\u001b[0m \u001b[32m━━━━━━━━━━━━━━━━━━━━\u001b[0m\u001b[37m\u001b[0m \u001b[1m47s\u001b[0m 429ms/step - loss: 0.2691 - val_loss: 0.2686\n",
      "Epoch 7/50\n",
      "\u001b[1m109/109\u001b[0m \u001b[32m━━━━━━━━━━━━━━━━━━━━\u001b[0m\u001b[37m\u001b[0m \u001b[1m47s\u001b[0m 431ms/step - loss: 0.2691 - val_loss: 0.2685\n",
      "Epoch 8/50\n",
      "\u001b[1m109/109\u001b[0m \u001b[32m━━━━━━━━━━━━━━━━━━━━\u001b[0m\u001b[37m\u001b[0m \u001b[1m49s\u001b[0m 448ms/step - loss: 0.2692 - val_loss: 0.2686\n",
      "Epoch 9/50\n",
      "\u001b[1m109/109\u001b[0m \u001b[32m━━━━━━━━━━━━━━━━━━━━\u001b[0m\u001b[37m\u001b[0m \u001b[1m51s\u001b[0m 465ms/step - loss: 0.2686 - val_loss: 0.2684\n",
      "Epoch 10/50\n",
      "\u001b[1m109/109\u001b[0m \u001b[32m━━━━━━━━━━━━━━━━━━━━\u001b[0m\u001b[37m\u001b[0m \u001b[1m49s\u001b[0m 450ms/step - loss: 0.2694 - val_loss: 0.2684\n",
      "Epoch 11/50\n",
      "\u001b[1m109/109\u001b[0m \u001b[32m━━━━━━━━━━━━━━━━━━━━\u001b[0m\u001b[37m\u001b[0m \u001b[1m49s\u001b[0m 448ms/step - loss: 0.2690 - val_loss: 0.2682\n",
      "Epoch 12/50\n",
      "\u001b[1m109/109\u001b[0m \u001b[32m━━━━━━━━━━━━━━━━━━━━\u001b[0m\u001b[37m\u001b[0m \u001b[1m49s\u001b[0m 452ms/step - loss: 0.2685 - val_loss: 0.2687\n",
      "Epoch 13/50\n",
      "\u001b[1m109/109\u001b[0m \u001b[32m━━━━━━━━━━━━━━━━━━━━\u001b[0m\u001b[37m\u001b[0m \u001b[1m49s\u001b[0m 447ms/step - loss: 0.2690 - val_loss: 0.2683\n",
      "Epoch 14/50\n",
      "\u001b[1m109/109\u001b[0m \u001b[32m━━━━━━━━━━━━━━━━━━━━\u001b[0m\u001b[37m\u001b[0m \u001b[1m49s\u001b[0m 448ms/step - loss: 0.2681 - val_loss: 0.2682\n",
      "Epoch 15/50\n",
      "\u001b[1m109/109\u001b[0m \u001b[32m━━━━━━━━━━━━━━━━━━━━\u001b[0m\u001b[37m\u001b[0m \u001b[1m51s\u001b[0m 468ms/step - loss: 0.2680 - val_loss: 0.2681\n",
      "Epoch 16/50\n",
      "\u001b[1m109/109\u001b[0m \u001b[32m━━━━━━━━━━━━━━━━━━━━\u001b[0m\u001b[37m\u001b[0m \u001b[1m50s\u001b[0m 458ms/step - loss: 0.2688 - val_loss: 0.2681\n",
      "Epoch 17/50\n",
      "\u001b[1m109/109\u001b[0m \u001b[32m━━━━━━━━━━━━━━━━━━━━\u001b[0m\u001b[37m\u001b[0m \u001b[1m49s\u001b[0m 447ms/step - loss: 0.2684 - val_loss: 0.2681\n",
      "Epoch 18/50\n",
      "\u001b[1m109/109\u001b[0m \u001b[32m━━━━━━━━━━━━━━━━━━━━\u001b[0m\u001b[37m\u001b[0m \u001b[1m48s\u001b[0m 443ms/step - loss: 0.2682 - val_loss: 0.2680\n",
      "Epoch 19/50\n",
      "\u001b[1m109/109\u001b[0m \u001b[32m━━━━━━━━━━━━━━━━━━━━\u001b[0m\u001b[37m\u001b[0m \u001b[1m48s\u001b[0m 443ms/step - loss: 0.2686 - val_loss: 0.2680\n",
      "Epoch 20/50\n",
      "\u001b[1m109/109\u001b[0m \u001b[32m━━━━━━━━━━━━━━━━━━━━\u001b[0m\u001b[37m\u001b[0m \u001b[1m49s\u001b[0m 446ms/step - loss: 0.2687 - val_loss: 0.2680\n",
      "Epoch 21/50\n",
      "\u001b[1m109/109\u001b[0m \u001b[32m━━━━━━━━━━━━━━━━━━━━\u001b[0m\u001b[37m\u001b[0m \u001b[1m49s\u001b[0m 445ms/step - loss: 0.2685 - val_loss: 0.2680\n",
      "Epoch 22/50\n",
      "\u001b[1m109/109\u001b[0m \u001b[32m━━━━━━━━━━━━━━━━━━━━\u001b[0m\u001b[37m\u001b[0m \u001b[1m51s\u001b[0m 465ms/step - loss: 0.2687 - val_loss: 0.2680\n",
      "Epoch 23/50\n",
      "\u001b[1m109/109\u001b[0m \u001b[32m━━━━━━━━━━━━━━━━━━━━\u001b[0m\u001b[37m\u001b[0m \u001b[1m49s\u001b[0m 451ms/step - loss: 0.2688 - val_loss: 0.2682\n",
      "Epoch 24/50\n",
      "\u001b[1m109/109\u001b[0m \u001b[32m━━━━━━━━━━━━━━━━━━━━\u001b[0m\u001b[37m\u001b[0m \u001b[1m48s\u001b[0m 439ms/step - loss: 0.2683 - val_loss: 0.2679\n",
      "Epoch 25/50\n",
      "\u001b[1m109/109\u001b[0m \u001b[32m━━━━━━━━━━━━━━━━━━━━\u001b[0m\u001b[37m\u001b[0m \u001b[1m45s\u001b[0m 413ms/step - loss: 0.2685 - val_loss: 0.2680\n",
      "Epoch 26/50\n",
      "\u001b[1m109/109\u001b[0m \u001b[32m━━━━━━━━━━━━━━━━━━━━\u001b[0m\u001b[37m\u001b[0m \u001b[1m45s\u001b[0m 410ms/step - loss: 0.2683 - val_loss: 0.2680\n",
      "Epoch 27/50\n",
      "\u001b[1m109/109\u001b[0m \u001b[32m━━━━━━━━━━━━━━━━━━━━\u001b[0m\u001b[37m\u001b[0m \u001b[1m45s\u001b[0m 414ms/step - loss: 0.2680 - val_loss: 0.2679\n",
      "Epoch 28/50\n",
      "\u001b[1m109/109\u001b[0m \u001b[32m━━━━━━━━━━━━━━━━━━━━\u001b[0m\u001b[37m\u001b[0m \u001b[1m46s\u001b[0m 419ms/step - loss: 0.2682 - val_loss: 0.2678\n",
      "Epoch 29/50\n",
      "\u001b[1m109/109\u001b[0m \u001b[32m━━━━━━━━━━━━━━━━━━━━\u001b[0m\u001b[37m\u001b[0m \u001b[1m45s\u001b[0m 413ms/step - loss: 0.2675 - val_loss: 0.2678\n",
      "Epoch 30/50\n",
      "\u001b[1m109/109\u001b[0m \u001b[32m━━━━━━━━━━━━━━━━━━━━\u001b[0m\u001b[37m\u001b[0m \u001b[1m47s\u001b[0m 433ms/step - loss: 0.2683 - val_loss: 0.2679\n",
      "Epoch 31/50\n",
      "\u001b[1m109/109\u001b[0m \u001b[32m━━━━━━━━━━━━━━━━━━━━\u001b[0m\u001b[37m\u001b[0m \u001b[1m49s\u001b[0m 447ms/step - loss: 0.2677 - val_loss: 0.2680\n",
      "Epoch 32/50\n",
      "\u001b[1m109/109\u001b[0m \u001b[32m━━━━━━━━━━━━━━━━━━━━\u001b[0m\u001b[37m\u001b[0m \u001b[1m49s\u001b[0m 448ms/step - loss: 0.2684 - val_loss: 0.2679\n",
      "Epoch 33/50\n",
      "\u001b[1m109/109\u001b[0m \u001b[32m━━━━━━━━━━━━━━━━━━━━\u001b[0m\u001b[37m\u001b[0m \u001b[1m49s\u001b[0m 449ms/step - loss: 0.2682 - val_loss: 0.2678\n",
      "Epoch 34/50\n",
      "\u001b[1m109/109\u001b[0m \u001b[32m━━━━━━━━━━━━━━━━━━━━\u001b[0m\u001b[37m\u001b[0m \u001b[1m47s\u001b[0m 427ms/step - loss: 0.2686 - val_loss: 0.2679\n",
      "Epoch 35/50\n",
      "\u001b[1m109/109\u001b[0m \u001b[32m━━━━━━━━━━━━━━━━━━━━\u001b[0m\u001b[37m\u001b[0m \u001b[1m45s\u001b[0m 416ms/step - loss: 0.2680 - val_loss: 0.2680\n",
      "Epoch 36/50\n",
      "\u001b[1m109/109\u001b[0m \u001b[32m━━━━━━━━━━━━━━━━━━━━\u001b[0m\u001b[37m\u001b[0m \u001b[1m45s\u001b[0m 417ms/step - loss: 0.2684 - val_loss: 0.2678\n",
      "Epoch 37/50\n",
      "\u001b[1m109/109\u001b[0m \u001b[32m━━━━━━━━━━━━━━━━━━━━\u001b[0m\u001b[37m\u001b[0m \u001b[1m45s\u001b[0m 414ms/step - loss: 0.2680 - val_loss: 0.2678\n",
      "Epoch 38/50\n",
      "\u001b[1m109/109\u001b[0m \u001b[32m━━━━━━━━━━━━━━━━━━━━\u001b[0m\u001b[37m\u001b[0m \u001b[1m45s\u001b[0m 416ms/step - loss: 0.2682 - val_loss: 0.2677\n",
      "Epoch 39/50\n",
      "\u001b[1m109/109\u001b[0m \u001b[32m━━━━━━━━━━━━━━━━━━━━\u001b[0m\u001b[37m\u001b[0m \u001b[1m45s\u001b[0m 413ms/step - loss: 0.2684 - val_loss: 0.2678\n",
      "Epoch 40/50\n",
      "\u001b[1m109/109\u001b[0m \u001b[32m━━━━━━━━━━━━━━━━━━━━\u001b[0m\u001b[37m\u001b[0m \u001b[1m46s\u001b[0m 417ms/step - loss: 0.2679 - val_loss: 0.2677\n",
      "Epoch 41/50\n",
      "\u001b[1m109/109\u001b[0m \u001b[32m━━━━━━━━━━━━━━━━━━━━\u001b[0m\u001b[37m\u001b[0m \u001b[1m45s\u001b[0m 414ms/step - loss: 0.2681 - val_loss: 0.2679\n",
      "Epoch 42/50\n",
      "\u001b[1m109/109\u001b[0m \u001b[32m━━━━━━━━━━━━━━━━━━━━\u001b[0m\u001b[37m\u001b[0m \u001b[1m45s\u001b[0m 415ms/step - loss: 0.2684 - val_loss: 0.2677\n",
      "Epoch 43/50\n",
      "\u001b[1m109/109\u001b[0m \u001b[32m━━━━━━━━━━━━━━━━━━━━\u001b[0m\u001b[37m\u001b[0m \u001b[1m45s\u001b[0m 416ms/step - loss: 0.2685 - val_loss: 0.2677\n",
      "Epoch 44/50\n",
      "\u001b[1m109/109\u001b[0m \u001b[32m━━━━━━━━━━━━━━━━━━━━\u001b[0m\u001b[37m\u001b[0m \u001b[1m45s\u001b[0m 415ms/step - loss: 0.2679 - val_loss: 0.2677\n",
      "Epoch 45/50\n",
      "\u001b[1m109/109\u001b[0m \u001b[32m━━━━━━━━━━━━━━━━━━━━\u001b[0m\u001b[37m\u001b[0m \u001b[1m45s\u001b[0m 414ms/step - loss: 0.2681 - val_loss: 0.2677\n",
      "Epoch 46/50\n",
      "\u001b[1m109/109\u001b[0m \u001b[32m━━━━━━━━━━━━━━━━━━━━\u001b[0m\u001b[37m\u001b[0m \u001b[1m45s\u001b[0m 412ms/step - loss: 0.2685 - val_loss: 0.2676\n",
      "Epoch 47/50\n",
      "\u001b[1m109/109\u001b[0m \u001b[32m━━━━━━━━━━━━━━━━━━━━\u001b[0m\u001b[37m\u001b[0m \u001b[1m45s\u001b[0m 415ms/step - loss: 0.2678 - val_loss: 0.2677\n",
      "Epoch 48/50\n",
      "\u001b[1m109/109\u001b[0m \u001b[32m━━━━━━━━━━━━━━━━━━━━\u001b[0m\u001b[37m\u001b[0m \u001b[1m45s\u001b[0m 414ms/step - loss: 0.2680 - val_loss: 0.2679\n",
      "Epoch 49/50\n",
      "\u001b[1m109/109\u001b[0m \u001b[32m━━━━━━━━━━━━━━━━━━━━\u001b[0m\u001b[37m\u001b[0m \u001b[1m45s\u001b[0m 417ms/step - loss: 0.2677 - val_loss: 0.2676\n",
      "Epoch 50/50\n",
      "\u001b[1m109/109\u001b[0m \u001b[32m━━━━━━━━━━━━━━━━━━━━\u001b[0m\u001b[37m\u001b[0m \u001b[1m46s\u001b[0m 420ms/step - loss: 0.2680 - val_loss: 0.2677\n"
     ]
    }
   ],
   "source": [
    "from sklearn.model_selection import train_test_split\n",
    "\n",
    "x_train, x_val = train_test_split(images, test_size=0.2, random_state=42)\n",
    "\n",
    "history = autoencoder.fit(x_train, x_train,\n",
    "                          epochs=50,\n",
    "                          batch_size=32,\n",
    "                          shuffle=True,\n",
    "                          validation_data=(x_val, x_val))\n",
    "\n",
    "# Save model\n",
    "autoencoder.save('autoencoder_model.h5')\n"
   ]
  },
  {
   "cell_type": "markdown",
   "id": "5887e011-da9e-4f9d-8dea-0ee9d3ccd081",
   "metadata": {},
   "source": [
    "## Extract embeddings"
   ]
  },
  {
   "cell_type": "code",
   "execution_count": 20,
   "id": "9ee21291-7249-4cc4-a291-07f1d84b68a2",
   "metadata": {},
   "outputs": [
    {
     "data": {
      "text/html": [
       "<pre style=\"white-space:pre;overflow-x:auto;line-height:normal;font-family:Menlo,'DejaVu Sans Mono',consolas,'Courier New',monospace\"><span style=\"font-weight: bold\">Model: \"functional_13\"</span>\n",
       "</pre>\n"
      ],
      "text/plain": [
       "\u001b[1mModel: \"functional_13\"\u001b[0m\n"
      ]
     },
     "metadata": {},
     "output_type": "display_data"
    },
    {
     "data": {
      "text/html": [
       "<pre style=\"white-space:pre;overflow-x:auto;line-height:normal;font-family:Menlo,'DejaVu Sans Mono',consolas,'Courier New',monospace\">┏━━━━━━━━━━━━━━━━━━━━━━━━━━━━━━━━━━━━━━┳━━━━━━━━━━━━━━━━━━━━━━━━━━━━━┳━━━━━━━━━━━━━━━━━┓\n",
       "┃<span style=\"font-weight: bold\"> Layer (type)                         </span>┃<span style=\"font-weight: bold\"> Output Shape                </span>┃<span style=\"font-weight: bold\">         Param # </span>┃\n",
       "┡━━━━━━━━━━━━━━━━━━━━━━━━━━━━━━━━━━━━━━╇━━━━━━━━━━━━━━━━━━━━━━━━━━━━━╇━━━━━━━━━━━━━━━━━┩\n",
       "│ input_layer_1 (<span style=\"color: #0087ff; text-decoration-color: #0087ff\">InputLayer</span>)           │ (<span style=\"color: #00d7ff; text-decoration-color: #00d7ff\">None</span>, <span style=\"color: #00af00; text-decoration-color: #00af00\">128</span>, <span style=\"color: #00af00; text-decoration-color: #00af00\">128</span>, <span style=\"color: #00af00; text-decoration-color: #00af00\">3</span>)         │               <span style=\"color: #00af00; text-decoration-color: #00af00\">0</span> │\n",
       "├──────────────────────────────────────┼─────────────────────────────┼─────────────────┤\n",
       "│ conv2d_7 (<span style=\"color: #0087ff; text-decoration-color: #0087ff\">Conv2D</span>)                    │ (<span style=\"color: #00d7ff; text-decoration-color: #00d7ff\">None</span>, <span style=\"color: #00af00; text-decoration-color: #00af00\">128</span>, <span style=\"color: #00af00; text-decoration-color: #00af00\">128</span>, <span style=\"color: #00af00; text-decoration-color: #00af00\">32</span>)        │             <span style=\"color: #00af00; text-decoration-color: #00af00\">896</span> │\n",
       "├──────────────────────────────────────┼─────────────────────────────┼─────────────────┤\n",
       "│ max_pooling2d_3 (<span style=\"color: #0087ff; text-decoration-color: #0087ff\">MaxPooling2D</span>)       │ (<span style=\"color: #00d7ff; text-decoration-color: #00d7ff\">None</span>, <span style=\"color: #00af00; text-decoration-color: #00af00\">64</span>, <span style=\"color: #00af00; text-decoration-color: #00af00\">64</span>, <span style=\"color: #00af00; text-decoration-color: #00af00\">32</span>)          │               <span style=\"color: #00af00; text-decoration-color: #00af00\">0</span> │\n",
       "├──────────────────────────────────────┼─────────────────────────────┼─────────────────┤\n",
       "│ conv2d_8 (<span style=\"color: #0087ff; text-decoration-color: #0087ff\">Conv2D</span>)                    │ (<span style=\"color: #00d7ff; text-decoration-color: #00d7ff\">None</span>, <span style=\"color: #00af00; text-decoration-color: #00af00\">64</span>, <span style=\"color: #00af00; text-decoration-color: #00af00\">64</span>, <span style=\"color: #00af00; text-decoration-color: #00af00\">64</span>)          │          <span style=\"color: #00af00; text-decoration-color: #00af00\">18,496</span> │\n",
       "├──────────────────────────────────────┼─────────────────────────────┼─────────────────┤\n",
       "│ max_pooling2d_4 (<span style=\"color: #0087ff; text-decoration-color: #0087ff\">MaxPooling2D</span>)       │ (<span style=\"color: #00d7ff; text-decoration-color: #00d7ff\">None</span>, <span style=\"color: #00af00; text-decoration-color: #00af00\">32</span>, <span style=\"color: #00af00; text-decoration-color: #00af00\">32</span>, <span style=\"color: #00af00; text-decoration-color: #00af00\">64</span>)          │               <span style=\"color: #00af00; text-decoration-color: #00af00\">0</span> │\n",
       "├──────────────────────────────────────┼─────────────────────────────┼─────────────────┤\n",
       "│ conv2d_9 (<span style=\"color: #0087ff; text-decoration-color: #0087ff\">Conv2D</span>)                    │ (<span style=\"color: #00d7ff; text-decoration-color: #00d7ff\">None</span>, <span style=\"color: #00af00; text-decoration-color: #00af00\">32</span>, <span style=\"color: #00af00; text-decoration-color: #00af00\">32</span>, <span style=\"color: #00af00; text-decoration-color: #00af00\">128</span>)         │          <span style=\"color: #00af00; text-decoration-color: #00af00\">73,856</span> │\n",
       "├──────────────────────────────────────┼─────────────────────────────┼─────────────────┤\n",
       "│ max_pooling2d_5 (<span style=\"color: #0087ff; text-decoration-color: #0087ff\">MaxPooling2D</span>)       │ (<span style=\"color: #00d7ff; text-decoration-color: #00d7ff\">None</span>, <span style=\"color: #00af00; text-decoration-color: #00af00\">16</span>, <span style=\"color: #00af00; text-decoration-color: #00af00\">16</span>, <span style=\"color: #00af00; text-decoration-color: #00af00\">128</span>)         │               <span style=\"color: #00af00; text-decoration-color: #00af00\">0</span> │\n",
       "└──────────────────────────────────────┴─────────────────────────────┴─────────────────┘\n",
       "</pre>\n"
      ],
      "text/plain": [
       "┏━━━━━━━━━━━━━━━━━━━━━━━━━━━━━━━━━━━━━━┳━━━━━━━━━━━━━━━━━━━━━━━━━━━━━┳━━━━━━━━━━━━━━━━━┓\n",
       "┃\u001b[1m \u001b[0m\u001b[1mLayer (type)                        \u001b[0m\u001b[1m \u001b[0m┃\u001b[1m \u001b[0m\u001b[1mOutput Shape               \u001b[0m\u001b[1m \u001b[0m┃\u001b[1m \u001b[0m\u001b[1m        Param #\u001b[0m\u001b[1m \u001b[0m┃\n",
       "┡━━━━━━━━━━━━━━━━━━━━━━━━━━━━━━━━━━━━━━╇━━━━━━━━━━━━━━━━━━━━━━━━━━━━━╇━━━━━━━━━━━━━━━━━┩\n",
       "│ input_layer_1 (\u001b[38;5;33mInputLayer\u001b[0m)           │ (\u001b[38;5;45mNone\u001b[0m, \u001b[38;5;34m128\u001b[0m, \u001b[38;5;34m128\u001b[0m, \u001b[38;5;34m3\u001b[0m)         │               \u001b[38;5;34m0\u001b[0m │\n",
       "├──────────────────────────────────────┼─────────────────────────────┼─────────────────┤\n",
       "│ conv2d_7 (\u001b[38;5;33mConv2D\u001b[0m)                    │ (\u001b[38;5;45mNone\u001b[0m, \u001b[38;5;34m128\u001b[0m, \u001b[38;5;34m128\u001b[0m, \u001b[38;5;34m32\u001b[0m)        │             \u001b[38;5;34m896\u001b[0m │\n",
       "├──────────────────────────────────────┼─────────────────────────────┼─────────────────┤\n",
       "│ max_pooling2d_3 (\u001b[38;5;33mMaxPooling2D\u001b[0m)       │ (\u001b[38;5;45mNone\u001b[0m, \u001b[38;5;34m64\u001b[0m, \u001b[38;5;34m64\u001b[0m, \u001b[38;5;34m32\u001b[0m)          │               \u001b[38;5;34m0\u001b[0m │\n",
       "├──────────────────────────────────────┼─────────────────────────────┼─────────────────┤\n",
       "│ conv2d_8 (\u001b[38;5;33mConv2D\u001b[0m)                    │ (\u001b[38;5;45mNone\u001b[0m, \u001b[38;5;34m64\u001b[0m, \u001b[38;5;34m64\u001b[0m, \u001b[38;5;34m64\u001b[0m)          │          \u001b[38;5;34m18,496\u001b[0m │\n",
       "├──────────────────────────────────────┼─────────────────────────────┼─────────────────┤\n",
       "│ max_pooling2d_4 (\u001b[38;5;33mMaxPooling2D\u001b[0m)       │ (\u001b[38;5;45mNone\u001b[0m, \u001b[38;5;34m32\u001b[0m, \u001b[38;5;34m32\u001b[0m, \u001b[38;5;34m64\u001b[0m)          │               \u001b[38;5;34m0\u001b[0m │\n",
       "├──────────────────────────────────────┼─────────────────────────────┼─────────────────┤\n",
       "│ conv2d_9 (\u001b[38;5;33mConv2D\u001b[0m)                    │ (\u001b[38;5;45mNone\u001b[0m, \u001b[38;5;34m32\u001b[0m, \u001b[38;5;34m32\u001b[0m, \u001b[38;5;34m128\u001b[0m)         │          \u001b[38;5;34m73,856\u001b[0m │\n",
       "├──────────────────────────────────────┼─────────────────────────────┼─────────────────┤\n",
       "│ max_pooling2d_5 (\u001b[38;5;33mMaxPooling2D\u001b[0m)       │ (\u001b[38;5;45mNone\u001b[0m, \u001b[38;5;34m16\u001b[0m, \u001b[38;5;34m16\u001b[0m, \u001b[38;5;34m128\u001b[0m)         │               \u001b[38;5;34m0\u001b[0m │\n",
       "└──────────────────────────────────────┴─────────────────────────────┴─────────────────┘\n"
      ]
     },
     "metadata": {},
     "output_type": "display_data"
    },
    {
     "data": {
      "text/html": [
       "<pre style=\"white-space:pre;overflow-x:auto;line-height:normal;font-family:Menlo,'DejaVu Sans Mono',consolas,'Courier New',monospace\"><span style=\"font-weight: bold\"> Total params: </span><span style=\"color: #00af00; text-decoration-color: #00af00\">93,248</span> (364.25 KB)\n",
       "</pre>\n"
      ],
      "text/plain": [
       "\u001b[1m Total params: \u001b[0m\u001b[38;5;34m93,248\u001b[0m (364.25 KB)\n"
      ]
     },
     "metadata": {},
     "output_type": "display_data"
    },
    {
     "data": {
      "text/html": [
       "<pre style=\"white-space:pre;overflow-x:auto;line-height:normal;font-family:Menlo,'DejaVu Sans Mono',consolas,'Courier New',monospace\"><span style=\"font-weight: bold\"> Trainable params: </span><span style=\"color: #00af00; text-decoration-color: #00af00\">93,248</span> (364.25 KB)\n",
       "</pre>\n"
      ],
      "text/plain": [
       "\u001b[1m Trainable params: \u001b[0m\u001b[38;5;34m93,248\u001b[0m (364.25 KB)\n"
      ]
     },
     "metadata": {},
     "output_type": "display_data"
    },
    {
     "data": {
      "text/html": [
       "<pre style=\"white-space:pre;overflow-x:auto;line-height:normal;font-family:Menlo,'DejaVu Sans Mono',consolas,'Courier New',monospace\"><span style=\"font-weight: bold\"> Non-trainable params: </span><span style=\"color: #00af00; text-decoration-color: #00af00\">0</span> (0.00 B)\n",
       "</pre>\n"
      ],
      "text/plain": [
       "\u001b[1m Non-trainable params: \u001b[0m\u001b[38;5;34m0\u001b[0m (0.00 B)\n"
      ]
     },
     "metadata": {},
     "output_type": "display_data"
    },
    {
     "name": "stdout",
     "output_type": "stream",
     "text": [
      "\u001b[1m1/1\u001b[0m \u001b[32m━━━━━━━━━━━━━━━━━━━━\u001b[0m\u001b[37m\u001b[0m \u001b[1m0s\u001b[0m 80ms/step\n"
     ]
    }
   ],
   "source": [
    "# Defining a separate model to output the embeddings\n",
    "encoder = Model(inputs=autoencoder.input, outputs=encoded)\n",
    "encoder.summary()\n",
    "\n",
    "\n",
    "embeddings = encoder.predict(images[:10])\n",
    "# print(embeddings)\n"
   ]
  },
  {
   "cell_type": "markdown",
   "id": "a0809598-f67a-4d4e-9671-3a055030a2f1",
   "metadata": {},
   "source": [
    "## Visualize Embeddings"
   ]
  },
  {
   "cell_type": "markdown",
   "id": "dfea5dfd-4684-4296-987f-5fc2537be50d",
   "metadata": {},
   "source": [
    "### Extracting labels from CSV"
   ]
  },
  {
   "cell_type": "code",
   "execution_count": 16,
   "id": "afe9d162-685a-431d-b2cf-071ad0a4d1d6",
   "metadata": {},
   "outputs": [],
   "source": [
    "import os\n",
    "import pandas as pd\n",
    "\n",
    "# Loading the detection results CSV\n",
    "detection_results = r'C:\\Users\\algba\\AIhwks\\object_detection_results.csv'\n",
    "detection_df = pd.read_csv(detection_results)\n",
    "\n",
    "# Extracting labels corresponding to the images\n",
    "image_files = [img for img in os.listdir(image_dir) if img.endswith('.png')]\n",
    "labels = []\n",
    "\n",
    "for img_file in image_files:\n",
    "    try:\n",
    "        # Parse the file name to get the corresponding label\n",
    "        vid_id, frame_part, detected_obj_class = img_file.rsplit('_', 2)\n",
    "        frame_num = int(frame_part.replace('frame', ''))\n",
    "        detected_obj_class = detected_obj_class.replace('.png', '')\n",
    "        \n",
    "        # Find the corresponding row in the CSV\n",
    "        row = detection_df[(detection_df['vidId'] == vid_id) & (detection_df['frameNum'] == frame_num)]\n",
    "        \n",
    "        if not row.empty:\n",
    "            labels.append(row.iloc[0]['detectedObjClass'])\n",
    "        else:\n",
    "            labels.append('unknown')  # or handle this case as needed\n",
    "    except Exception as e:\n",
    "        print(f\"Error processing file {img_file}: {e}\")\n",
    "        labels.append('unknown')  # Handle unexpected formats gracefully\n",
    "\n",
    "# Ensuring the number of labels matches the number of images\n",
    "assert len(labels) == len(image_files), \"Number of labels must match the number of images\"\n"
   ]
  },
  {
   "cell_type": "markdown",
   "id": "3c0bb7c7-5e0c-48f9-90e5-dbe16cf363ef",
   "metadata": {},
   "source": [
    "### Visualize t-SNE with actual labels"
   ]
  },
  {
   "cell_type": "code",
   "execution_count": 17,
   "id": "6b2a0e7b-fb0a-4f86-be07-eba50501ab66",
   "metadata": {},
   "outputs": [
    {
     "name": "stdout",
     "output_type": "stream",
     "text": [
      "\u001b[1m4/4\u001b[0m \u001b[32m━━━━━━━━━━━━━━━━━━━━\u001b[0m\u001b[37m\u001b[0m \u001b[1m0s\u001b[0m 36ms/step\n"
     ]
    },
    {
     "data": {
      "image/png": "[encoded data removed]",
      "text/plain": [
       "<Figure size 1000x1000 with 1 Axes>"
      ]
     },
     "metadata": {},
     "output_type": "display_data"
    }
   ],
   "source": [
    "from sklearn.manifold import TSNE\n",
    "import matplotlib.pyplot as plt\n",
    "\n",
    "\n",
    "n_samples = min(100, len(images))  \n",
    "embeddings = encoder.predict(images[:n_samples])\n",
    "\n",
    "# Flatten the embeddings for t-SNE\n",
    "flattened_embeddings = embeddings.reshape((embeddings.shape[0], -1))\n",
    "\n",
    "# Perform t-SNE with a lower perplexity if necessary\n",
    "tsne = TSNE(n_components=2, perplexity=5, random_state=42)\n",
    "tsne_results = tsne.fit_transform(flattened_embeddings)\n",
    "\n",
    "# Plot t-SNE results with color coding by class\n",
    "plt.figure(figsize=(10, 10))\n",
    "for label in set(labels[:n_samples]):\n",
    "    indices = [i for i, l in enumerate(labels[:n_samples]) if l == label]\n",
    "    plt.scatter(tsne_results[indices, 0], tsne_results[indices, 1], label=label)\n",
    "plt.legend()\n",
    "plt.title(\"t-SNE Visualization of Image Embeddings by Class\")\n",
    "plt.xlabel(\"Component 1\")\n",
    "plt.ylabel(\"Component 2\")\n",
    "plt.show()\n"
   ]
  },
  {
   "cell_type": "markdown",
   "id": "d9177b85-a57f-4f63-aa65-11c88dbef677",
   "metadata": {},
   "source": [
    "#### Some classes like cat, person, car and teddy bear show distinct clusters. Other classes like sink and truck appear more spread out.\n",
    "#### For further improvements, I could apply daa augmentation or apply other complex architectures. "
   ]
  },
  {
   "cell_type": "markdown",
   "id": "9cf7e855-5d45-4079-a0ca-926d24d27150",
   "metadata": {},
   "source": [
    "# Indexing the Embeddings"
   ]
  }
 ],
 "metadata": {
  "kernelspec": {
   "display_name": "Python 3 (ipykernel)",
   "language": "python",
   "name": "python3"
  },
  "language_info": {
   "codemirror_mode": {
    "name": "ipython",
    "version": 3
   },
   "file_extension": ".py",
   "mimetype": "text/x-python",
   "name": "python",
   "nbconvert_exporter": "python",
   "pygments_lexer": "ipython3",
   "version": "3.9.13"
  }
 },
 "nbformat": 4,
 "nbformat_minor": 5
}
